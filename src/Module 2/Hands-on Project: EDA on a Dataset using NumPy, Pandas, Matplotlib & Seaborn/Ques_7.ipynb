{
 "cells": [
  {
   "cell_type": "code",
   "execution_count": null,
   "metadata": {},
   "outputs": [],
   "source": [
    "# Title: Group and Aggregate Data\n",
    "# Description: Group the dataset by species (target) and compute the average of each feature."
   ]
  },
  {
   "cell_type": "code",
   "execution_count": null,
   "metadata": {},
   "outputs": [],
   "source": [
    "import seaborn as sns\n",
    "import pandas as pd\n",
    "\n",
    "# Load the Iris dataset\n",
    "df = sns.load_dataset('iris')\n",
    "\n",
    "# Group by the species and calculate the mean of each feature\n",
    "grouped_means = df.groupby('species').mean(numeric_only=True)\n",
    "\n",
    "# Display the aggregated results\n",
    "print(\"📌 Average of each feature grouped by species:\")\n",
    "print(grouped_means)"
   ]
  }
 ],
 "metadata": {
  "language_info": {
   "name": "python"
  }
 },
 "nbformat": 4,
 "nbformat_minor": 2
}
