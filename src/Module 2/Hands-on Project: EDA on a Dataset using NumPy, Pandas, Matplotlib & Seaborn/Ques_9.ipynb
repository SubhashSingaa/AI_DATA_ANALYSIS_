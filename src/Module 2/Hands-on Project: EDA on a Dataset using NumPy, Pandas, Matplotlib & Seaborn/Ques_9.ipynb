{
 "cells": [
  {
   "cell_type": "code",
   "execution_count": null,
   "metadata": {},
   "outputs": [],
   "source": [
    "# Title: Feature Engineering for Classification\n",
    "# Description: Create a new feature that could help distinguish between species based on\n",
    "# logical assumptions and verify its utility."
   ]
  },
  {
   "cell_type": "code",
   "execution_count": null,
   "metadata": {},
   "outputs": [],
   "source": [
    "import pandas as pd\n",
    "import seaborn as sns\n",
    "import matplotlib.pyplot as plt\n",
    "\n",
    "# Load the Iris dataset\n",
    "df = sns.load_dataset('iris')\n",
    "\n",
    "# Create a new feature: petal_area = petal_length * petal_width\n",
    "df['petal_area'] = df['petal_length'] * df['petal_width']\n",
    "\n",
    "# Preview the updated DataFrame\n",
    "print(\"🔍 First 5 rows with the new 'petal_area' feature:\")\n",
    "print(df[['petal_length', 'petal_width', 'petal_area']].head())\n",
    "\n",
    "# Visualize the new feature across species\n",
    "plt.figure(figsize=(8, 5))\n",
    "sns.boxplot(x='species', y='petal_area', data=df, palette='pastel')\n",
    "plt.title(\"📊 Distribution of Petal Area by Species\", fontsize=13)\n",
    "plt.ylabel(\"Petal Area (cm²)\")\n",
    "plt.show()"
   ]
  }
 ],
 "metadata": {
  "language_info": {
   "name": "python"
  }
 },
 "nbformat": 4,
 "nbformat_minor": 2
}
