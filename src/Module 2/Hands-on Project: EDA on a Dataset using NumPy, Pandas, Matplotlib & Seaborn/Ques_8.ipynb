{
 "cells": [
  {
   "cell_type": "code",
   "execution_count": null,
   "metadata": {},
   "outputs": [],
   "source": [
    "# Title: Advanced Data Visualization\n",
    "# Description: Create a pair plot for the dataset to display pairwise relationships."
   ]
  },
  {
   "cell_type": "code",
   "execution_count": null,
   "metadata": {},
   "outputs": [],
   "source": [
    "import seaborn as sns\n",
    "import matplotlib.pyplot as plt\n",
    "\n",
    "# Load the Iris dataset\n",
    "df = sns.load_dataset('iris')\n",
    "\n",
    "# Create a pair plot to show pairwise relationships between features\n",
    "sns.pairplot(df, hue='species', palette='Set2', diag_kind='kde')\n",
    "\n",
    "# Set a main title for the entire plot\n",
    "plt.suptitle(\"📈 Pairwise Feature Relationships by Species\", y=1.02, fontsize=14)\n",
    "plt.show()"
   ]
  }
 ],
 "metadata": {
  "language_info": {
   "name": "python"
  }
 },
 "nbformat": 4,
 "nbformat_minor": 2
}
