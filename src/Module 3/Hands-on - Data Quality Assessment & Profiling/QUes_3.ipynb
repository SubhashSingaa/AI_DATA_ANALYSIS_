{
 "cells": [
  {
   "cell_type": "code",
   "execution_count": null,
   "metadata": {},
   "outputs": [],
   "source": [
    "import pandas as pd\n",
    "from sklearn.datasets import load_iris\n",
    "\n",
    "# Part 1: Load the Iris Dataset & Check Missing Values\n",
    "# Load the Iris dataset using sklearn and convert it into a DataFrame\n",
    "iris = load_iris()\n",
    "df = pd.DataFrame(iris.data, columns=iris.feature_names)\n",
    "\n",
    "# Check for missing values in the entire dataset\n",
    "missing_values = df.isnull().sum()\n",
    "\n",
    "# Print missing values per column\n",
    "print(\"Missing values in the Iris dataset:\")\n",
    "print(missing_values)\n",
    "\n",
    "# Part 2: Identify Duplicates & Inconsistencies\n",
    "# Sample dataset with a 'Gender' column (assuming this dataset)\n",
    "sample_data = {\n",
    "    'Gender': ['M', 'Male', 'female', 'Male', 'F', 'M', 'female', 'm']\n",
    "}\n",
    "sample_df = pd.DataFrame(sample_data)\n",
    "\n",
    "# Check for inconsistent entries in the 'Gender' column\n",
    "gender_inconsistencies = sample_df['Gender'].value_counts()\n",
    "\n",
    "# Print the distribution of 'Gender' to identify inconsistencies\n",
    "print(\"\\nInconsistent Entries in the 'Gender' Column:\")\n",
    "print(gender_inconsistencies)\n",
    "\n",
    "# Part 3: Generate a Data Quality Report\n",
    "# Generate basic descriptive statistics for the Iris dataset\n",
    "numerical_stats = df.describe()\n",
    "\n",
    "# Print the basic descriptive statistics for the Iris dataset\n",
    "print(\"\\nBasic Descriptive Statistics for the Iris Dataset:\")\n",
    "print(numerical_stats)"
   ]
  }
 ],
 "metadata": {
  "kernelspec": {
   "display_name": "Python 3",
   "language": "python",
   "name": "python3"
  },
  "language_info": {
   "codemirror_mode": {
    "name": "ipython",
    "version": 3
   },
   "file_extension": ".py",
   "mimetype": "text/x-python",
   "name": "python",
   "nbconvert_exporter": "python",
   "pygments_lexer": "ipython3",
   "version": "3.10.12"
  }
 },
 "nbformat": 4,
 "nbformat_minor": 2
}
